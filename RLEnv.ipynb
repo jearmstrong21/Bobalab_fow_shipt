{
 "cells": [
  {
   "cell_type": "code",
   "execution_count": 1,
   "id": "da93f1cd-e3e4-4af6-876e-2c6308cdd69d",
   "metadata": {},
   "outputs": [
    {
     "name": "stdout",
     "output_type": "stream",
     "text": [
      "Requirement already satisfied: gymnasium in /opt/homebrew/Cellar/jupyterlab/4.2.5_1/libexec/lib/python3.12/site-packages (1.1.1)\n",
      "Requirement already satisfied: numpy>=1.21.0 in /opt/homebrew/Cellar/jupyterlab/4.2.5_1/libexec/lib/python3.12/site-packages (from gymnasium) (1.26.4)\n",
      "Requirement already satisfied: cloudpickle>=1.2.0 in /opt/homebrew/Cellar/jupyterlab/4.2.5_1/libexec/lib/python3.12/site-packages (from gymnasium) (3.1.1)\n",
      "Requirement already satisfied: typing-extensions>=4.3.0 in /opt/homebrew/Cellar/jupyterlab/4.2.5_1/libexec/lib/python3.12/site-packages (from gymnasium) (4.12.2)\n",
      "Requirement already satisfied: farama-notifications>=0.0.1 in /opt/homebrew/Cellar/jupyterlab/4.2.5_1/libexec/lib/python3.12/site-packages (from gymnasium) (0.0.4)\n",
      "\n",
      "\u001b[1m[\u001b[0m\u001b[34;49mnotice\u001b[0m\u001b[1;39;49m]\u001b[0m\u001b[39;49m A new release of pip is available: \u001b[0m\u001b[31;49m24.2\u001b[0m\u001b[39;49m -> \u001b[0m\u001b[32;49m25.0.1\u001b[0m\n",
      "\u001b[1m[\u001b[0m\u001b[34;49mnotice\u001b[0m\u001b[1;39;49m]\u001b[0m\u001b[39;49m To update, run: \u001b[0m\u001b[32;49m/opt/homebrew/Cellar/jupyterlab/4.2.5_1/libexec/bin/python -m pip install --upgrade pip\u001b[0m\n",
      "Note: you may need to restart the kernel to use updated packages.\n",
      "Requirement already satisfied: numpy in /opt/homebrew/Cellar/jupyterlab/4.2.5_1/libexec/lib/python3.12/site-packages (1.26.4)\n",
      "\n",
      "\u001b[1m[\u001b[0m\u001b[34;49mnotice\u001b[0m\u001b[1;39;49m]\u001b[0m\u001b[39;49m A new release of pip is available: \u001b[0m\u001b[31;49m24.2\u001b[0m\u001b[39;49m -> \u001b[0m\u001b[32;49m25.0.1\u001b[0m\n",
      "\u001b[1m[\u001b[0m\u001b[34;49mnotice\u001b[0m\u001b[1;39;49m]\u001b[0m\u001b[39;49m To update, run: \u001b[0m\u001b[32;49m/opt/homebrew/Cellar/jupyterlab/4.2.5_1/libexec/bin/python -m pip install --upgrade pip\u001b[0m\n",
      "Note: you may need to restart the kernel to use updated packages.\n",
      "Requirement already satisfied: pandas in /opt/homebrew/Cellar/jupyterlab/4.2.5_1/libexec/lib/python3.12/site-packages (2.2.3)\n",
      "Requirement already satisfied: numpy>=1.26.0 in /opt/homebrew/Cellar/jupyterlab/4.2.5_1/libexec/lib/python3.12/site-packages (from pandas) (1.26.4)\n",
      "Requirement already satisfied: python-dateutil>=2.8.2 in /opt/homebrew/Cellar/jupyterlab/4.2.5_1/libexec/lib/python3.12/site-packages (from pandas) (2.9.0.post0)\n",
      "Requirement already satisfied: pytz>=2020.1 in /opt/homebrew/Cellar/jupyterlab/4.2.5_1/libexec/lib/python3.12/site-packages (from pandas) (2025.1)\n",
      "Requirement already satisfied: tzdata>=2022.7 in /opt/homebrew/Cellar/jupyterlab/4.2.5_1/libexec/lib/python3.12/site-packages (from pandas) (2025.1)\n",
      "Requirement already satisfied: six>=1.5 in /opt/homebrew/Cellar/jupyterlab/4.2.5_1/libexec/lib/python3.12/site-packages (from python-dateutil>=2.8.2->pandas) (1.16.0)\n",
      "\n",
      "\u001b[1m[\u001b[0m\u001b[34;49mnotice\u001b[0m\u001b[1;39;49m]\u001b[0m\u001b[39;49m A new release of pip is available: \u001b[0m\u001b[31;49m24.2\u001b[0m\u001b[39;49m -> \u001b[0m\u001b[32;49m25.0.1\u001b[0m\n",
      "\u001b[1m[\u001b[0m\u001b[34;49mnotice\u001b[0m\u001b[1;39;49m]\u001b[0m\u001b[39;49m To update, run: \u001b[0m\u001b[32;49m/opt/homebrew/Cellar/jupyterlab/4.2.5_1/libexec/bin/python -m pip install --upgrade pip\u001b[0m\n",
      "Note: you may need to restart the kernel to use updated packages.\n",
      "Requirement already satisfied: tqdm in /opt/homebrew/Cellar/jupyterlab/4.2.5_1/libexec/lib/python3.12/site-packages (4.67.1)\n",
      "\n",
      "\u001b[1m[\u001b[0m\u001b[34;49mnotice\u001b[0m\u001b[1;39;49m]\u001b[0m\u001b[39;49m A new release of pip is available: \u001b[0m\u001b[31;49m24.2\u001b[0m\u001b[39;49m -> \u001b[0m\u001b[32;49m25.0.1\u001b[0m\n",
      "\u001b[1m[\u001b[0m\u001b[34;49mnotice\u001b[0m\u001b[1;39;49m]\u001b[0m\u001b[39;49m To update, run: \u001b[0m\u001b[32;49m/opt/homebrew/Cellar/jupyterlab/4.2.5_1/libexec/bin/python -m pip install --upgrade pip\u001b[0m\n",
      "Note: you may need to restart the kernel to use updated packages.\n"
     ]
    }
   ],
   "source": [
    "%pip install gymnasium\n",
    "%pip install numpy\n",
    "%pip install pandas\n",
    "%pip install tqdm"
   ]
  },
  {
   "cell_type": "code",
   "execution_count": 2,
   "id": "eaa43ac7-732e-4f59-8d6f-38ff642003be",
   "metadata": {},
   "outputs": [],
   "source": [
    "import gymnasium as gym\n",
    "from gymnasium.spaces import Discrete, Dict, Box\n",
    "import numpy as np\n",
    "import numpy as np\n",
    "import math\n",
    "import pandas as pd\n",
    "from tqdm import tqdm\n",
    "import random"
   ]
  },
  {
   "cell_type": "code",
   "execution_count": 3,
   "id": "b9da9aa4-eede-450e-85f7-8ed2b8c650d4",
   "metadata": {},
   "outputs": [],
   "source": [
    "random.seed(42)\n",
    "np.random.seed(42)"
   ]
  },
  {
   "cell_type": "code",
   "execution_count": 4,
   "id": "2e8cfde2-ff78-4af9-b86b-bec90df93157",
   "metadata": {},
   "outputs": [],
   "source": [
    "data = pd.read_csv(\"Data_tenpercent.csv\")\n",
    "data = data.dropna(subset=[\"SHOPPER_RATING\"])\n",
    "data[\"SHOPPER_ID\"] = data[\"SHOPPER_ID\"].astype(int)"
   ]
  },
  {
   "cell_type": "code",
   "execution_count": 5,
   "id": "2f889664-2b07-4b66-95f8-af736bb448d9",
   "metadata": {},
   "outputs": [
    {
     "name": "stdout",
     "output_type": "stream",
     "text": [
      "1.0\n",
      "431.0\n"
     ]
    }
   ],
   "source": [
    "print(data[\"DELIVERY_TIME\"].min())\n",
    "print(data[\"DELIVERY_TIME\"].max())"
   ]
  },
  {
   "cell_type": "code",
   "execution_count": 19,
   "id": "d25aaaa7-4d1f-4096-8dd2-20542f476967",
   "metadata": {},
   "outputs": [
    {
     "name": "stdout",
     "output_type": "stream",
     "text": [
      "18.0\n"
     ]
    }
   ],
   "source": [
    "grouped = data.groupby(\"SHOPPER_ID\")\n",
    "worker_ids = list(grouped.groups.keys())\n",
    "print(grouped.get_group(2388).iloc[0][\"DELIVERY_TIME\"])"
   ]
  },
  {
   "cell_type": "code",
   "execution_count": 20,
   "id": "61f8037d-cbd3-4264-8f49-2c48823a57fb",
   "metadata": {},
   "outputs": [],
   "source": [
    "num_cols_obs = [\"DELIVERY_TIME\"]\n",
    "\n",
    "class GigWorkerEnv(gym.Env):\n",
    "    def __init__(self):\n",
    "        self.sample_counts = [0 for _ in worker_ids]\n",
    "        \n",
    "        self.action_space = Discrete(len(worker_ids))\n",
    "        self.action_list = [w for w in worker_ids]\n",
    "\n",
    "        dct = {}\n",
    "        for col in num_cols_obs:\n",
    "            dct[col] = Box(low=data[col].min(), high=data[col].max(), shape=())\n",
    "        \n",
    "        self.observation_space = Dict(dct)\n",
    "\n",
    "    def step(self, action): # update the action space\n",
    "        wid = self.action_list[action]\n",
    "        sample_count = self.sample_counts[action]\n",
    "        worker_records = grouped.get_group(wid)\n",
    "        record = worker_records.iloc[sample_count]\n",
    "        # record = worker_records.iloc[sample_count % len(worker_records)]\n",
    "        self.sample_counts[action] += 1\n",
    "\n",
    "        if self.sample_counts[action] == len(worker_records):\n",
    "            self.action_space = Discrete(len(self.action_list) - 1)\n",
    "            del self.action_list[action]\n",
    "            del self.sample_counts[action]\n",
    "\n",
    "        observation = {}\n",
    "        for col in num_cols_obs:\n",
    "            observation[col] = record[col]\n",
    "        \n",
    "        reward = record[\"SHOPPER_RATING\"]\n",
    "        terminated = len(self.action_list) == 0\n",
    "        truncated = False\n",
    "        info = {}\n",
    "\n",
    "        return observation, reward, terminated, truncated, info\n",
    "\n",
    "    def reset(self, seed=None, options=None):\n",
    "        super().reset(seed=seed)\n",
    "        self.sample_counts = [0 for _ in worker_ids]\n",
    "        self.action_space = Discrete(len(worker_ids))\n",
    "        self.action_list = [w for w in worker_ids]\n",
    "        return {}, {}"
   ]
  },
  {
   "cell_type": "code",
   "execution_count": 21,
   "id": "d97f4e65-38d4-42fd-865b-5af3f95a0e30",
   "metadata": {},
   "outputs": [
    {
     "name": "stdout",
     "output_type": "stream",
     "text": [
      "Total reward: 4.66\n"
     ]
    }
   ],
   "source": [
    "env = GigWorkerEnv()\n",
    "observation, info = env.reset()\n",
    "\n",
    "episode_over = False\n",
    "rounds = 0\n",
    "total_reward = 0\n",
    "while not episode_over and rounds < 10000:\n",
    "    rounds = rounds + 1\n",
    "    action = env.action_space.sample()  # agent policy that uses the observation and info\n",
    "    # action = 0\n",
    "    observation, reward, terminated, truncated, info = env.step(action)\n",
    "    total_reward += reward\n",
    "\n",
    "    episode_over = terminated or truncated\n",
    "total_reward /= 10000\n",
    "print(\"Total reward:\", total_reward)\n",
    "# always choose 0 => 4.8097\n",
    "# random choice => 4.662\n",
    "\n",
    "env.close()"
   ]
  },
  {
   "cell_type": "code",
   "execution_count": 22,
   "id": "ed348871-7137-4e90-b198-bcf676604569",
   "metadata": {},
   "outputs": [
    {
     "name": "stdout",
     "output_type": "stream",
     "text": [
      "4.816395642971452\n"
     ]
    }
   ],
   "source": [
    "print(data[\"SHOPPER_RATING\"].mean())"
   ]
  },
  {
   "cell_type": "code",
   "execution_count": null,
   "id": "f0ba865b-6589-41ff-a8fa-8661d56c72a4",
   "metadata": {},
   "outputs": [],
   "source": []
  }
 ],
 "metadata": {
  "kernelspec": {
   "display_name": "Python 3 (ipykernel)",
   "language": "python",
   "name": "python3"
  },
  "language_info": {
   "codemirror_mode": {
    "name": "ipython",
    "version": 3
   },
   "file_extension": ".py",
   "mimetype": "text/x-python",
   "name": "python",
   "nbconvert_exporter": "python",
   "pygments_lexer": "ipython3",
   "version": "3.12.7"
  }
 },
 "nbformat": 4,
 "nbformat_minor": 5
}
